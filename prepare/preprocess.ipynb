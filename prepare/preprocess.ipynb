{
 "cells": [
  {
   "cell_type": "code",
   "execution_count": 1,
   "metadata": {},
   "outputs": [],
   "source": [
    "\"\"\"\n",
    "Author: Chao Yan (ceewye@outlook.com)\n",
    "preprocess.ipynb (c) 2022\n",
    "Desc: transform data\n",
    "Created:  2022-08-05T07:32:46.964Z\n",
    "\"\"\"\n",
    "\n",
    "import pandas as pd\n",
    "import json\n",
    "import os\n",
    "from valid import *"
   ]
  },
  {
   "cell_type": "code",
   "execution_count": 2,
   "metadata": {},
   "outputs": [],
   "source": [
    "\n",
    "\n",
    "def csv_to_dict(filename):\n",
    "    demo_df = pd.read_csv(filename, sep='\\t', error_bad_lines=False)\n",
    "    tables = {}\n",
    "    for fn, df_fn in demo_df.groupby('FileName'):\n",
    "        for tid, df_fn_tid in df_fn.groupby('TableId'):\n",
    "            mat = []\n",
    "            \n",
    "            for rid, df_fn_tid_rid in df_fn_tid.groupby('TableRowId'):\n",
    "                row = [s[:-1] for s in df_fn_tid_rid['CellText']]\n",
    "                mat.append(row)\n",
    "\n",
    "            if not is_mat(mat): continue\n",
    "                \n",
    "            tables[f'{fn}-table_{tid}'] = {'table_array': mat}\n",
    "    return tables\n",
    "        "
   ]
  },
  {
   "cell_type": "code",
   "execution_count": 6,
   "metadata": {},
   "outputs": [],
   "source": [
    "splits = ['train', 'valid', 'test']\n",
    "\n",
    "fname = 'tables.json'\n",
    "if not os.path.exists(fname):\n",
    "    tables = {}\n",
    "    for s in splits:\n",
    "        tables.update(csv_to_dict(f'./raw/csv/{s}.csv'))\n",
    "    with open(fname, 'w') as f: json.dump(tables, f)\n",
    "else:\n",
    "    with open(fname) as f: tables = json.load(f)"
   ]
  },
  {
   "cell_type": "code",
   "execution_count": 4,
   "metadata": {},
   "outputs": [
    {
     "data": {
      "text/html": [
       "<div>\n",
       "<style scoped>\n",
       "    .dataframe tbody tr th:only-of-type {\n",
       "        vertical-align: middle;\n",
       "    }\n",
       "\n",
       "    .dataframe tbody tr th {\n",
       "        vertical-align: top;\n",
       "    }\n",
       "\n",
       "    .dataframe thead th {\n",
       "        text-align: right;\n",
       "    }\n",
       "</style>\n",
       "<table border=\"1\" class=\"dataframe\">\n",
       "  <thead>\n",
       "    <tr style=\"text-align: right;\">\n",
       "      <th></th>\n",
       "      <th>file_name</th>\n",
       "      <th>table_id</th>\n",
       "      <th>detail_label</th>\n",
       "    </tr>\n",
       "  </thead>\n",
       "  <tbody>\n",
       "    <tr>\n",
       "      <th>0</th>\n",
       "      <td>Sample-Document-Retention-Policy-12.31.15.docx</td>\n",
       "      <td>0</td>\n",
       "      <td>Layout</td>\n",
       "    </tr>\n",
       "    <tr>\n",
       "      <th>1</th>\n",
       "      <td>Sample-Document-Retention-Policy-12.31.15.docx</td>\n",
       "      <td>1</td>\n",
       "      <td>SimpleHeadersSimpleContent</td>\n",
       "    </tr>\n",
       "    <tr>\n",
       "      <th>2</th>\n",
       "      <td>RenUnitOutSS8-2014.docx</td>\n",
       "      <td>0</td>\n",
       "      <td>ComplexListSimpleContent</td>\n",
       "    </tr>\n",
       "    <tr>\n",
       "      <th>3</th>\n",
       "      <td>micc_contr_guide.docx</td>\n",
       "      <td>0</td>\n",
       "      <td>SimpleHeadersSimpleContent</td>\n",
       "    </tr>\n",
       "    <tr>\n",
       "      <th>4</th>\n",
       "      <td>INF2.docx</td>\n",
       "      <td>1</td>\n",
       "      <td>Layout</td>\n",
       "    </tr>\n",
       "    <tr>\n",
       "      <th>...</th>\n",
       "      <td>...</td>\n",
       "      <td>...</td>\n",
       "      <td>...</td>\n",
       "    </tr>\n",
       "    <tr>\n",
       "      <th>9132</th>\n",
       "      <td>2+VfM+NSMC+Background+documents.docx</td>\n",
       "      <td>10</td>\n",
       "      <td>SimpleHeadersSimpleContent</td>\n",
       "    </tr>\n",
       "    <tr>\n",
       "      <th>9133</th>\n",
       "      <td>2+VfM+NSMC+Background+documents.docx</td>\n",
       "      <td>11</td>\n",
       "      <td>SimpleHeadersSimpleContent</td>\n",
       "    </tr>\n",
       "    <tr>\n",
       "      <th>9134</th>\n",
       "      <td>2+VfM+NSMC+Background+documents.docx</td>\n",
       "      <td>0</td>\n",
       "      <td>SimpleHeadersSimpleContent</td>\n",
       "    </tr>\n",
       "    <tr>\n",
       "      <th>9135</th>\n",
       "      <td>nomination-examiners-research.docx</td>\n",
       "      <td>0</td>\n",
       "      <td>ComplexFormComplexContent</td>\n",
       "    </tr>\n",
       "    <tr>\n",
       "      <th>9136</th>\n",
       "      <td>Attachment 6 - PayeeDataRecord.Rev02082018(2)....</td>\n",
       "      <td>0</td>\n",
       "      <td>ComplexFormComplexContent</td>\n",
       "    </tr>\n",
       "  </tbody>\n",
       "</table>\n",
       "<p>9137 rows × 3 columns</p>\n",
       "</div>"
      ],
      "text/plain": [
       "                                              file_name  table_id  \\\n",
       "0        Sample-Document-Retention-Policy-12.31.15.docx         0   \n",
       "1        Sample-Document-Retention-Policy-12.31.15.docx         1   \n",
       "2                               RenUnitOutSS8-2014.docx         0   \n",
       "3                                 micc_contr_guide.docx         0   \n",
       "4                                             INF2.docx         1   \n",
       "...                                                 ...       ...   \n",
       "9132               2+VfM+NSMC+Background+documents.docx        10   \n",
       "9133               2+VfM+NSMC+Background+documents.docx        11   \n",
       "9134               2+VfM+NSMC+Background+documents.docx         0   \n",
       "9135                 nomination-examiners-research.docx         0   \n",
       "9136  Attachment 6 - PayeeDataRecord.Rev02082018(2)....         0   \n",
       "\n",
       "                    detail_label  \n",
       "0                         Layout  \n",
       "1     SimpleHeadersSimpleContent  \n",
       "2       ComplexListSimpleContent  \n",
       "3     SimpleHeadersSimpleContent  \n",
       "4                         Layout  \n",
       "...                          ...  \n",
       "9132  SimpleHeadersSimpleContent  \n",
       "9133  SimpleHeadersSimpleContent  \n",
       "9134  SimpleHeadersSimpleContent  \n",
       "9135   ComplexFormComplexContent  \n",
       "9136   ComplexFormComplexContent  \n",
       "\n",
       "[9137 rows x 3 columns]"
      ]
     },
     "execution_count": 4,
     "metadata": {},
     "output_type": "execute_result"
    }
   ],
   "source": [
    "train_labs = pd.read_csv('raw/label/train.csv', sep=',')\n",
    "train_labs"
   ]
  },
  {
   "cell_type": "code",
   "execution_count": 5,
   "metadata": {},
   "outputs": [
    {
     "data": {
      "text/plain": [
       "{'SimpleFormComplexContent': 0,\n",
       " 'SimpleFormSimpleContent': 0,\n",
       " 'SimpleHeadersComplexContent': 1,\n",
       " 'SimpleHeadersSimpleContent': 1,\n",
       " 'SimpleListComplexContent': 0,\n",
       " 'SimpleListSimpleContent': 0,\n",
       " 'ComplexFormComplexContent': 0,\n",
       " 'ComplexFormSimpleContent': 0,\n",
       " 'ComplexListComplexContent': 0,\n",
       " 'ComplexListSimpleContent': 0,\n",
       " 'InternalHeadersSimpleContent': 0,\n",
       " 'InternalHeadersComplexContent': 0,\n",
       " 'Layout': 0,\n",
       " 'Other': 0}"
      ]
     },
     "execution_count": 5,
     "metadata": {},
     "output_type": "execute_result"
    }
   ],
   "source": [
    "a = ['SimpleFormComplexContent',\n",
    " 'SimpleFormSimpleContent',\n",
    " 'SimpleHeadersComplexContent',\n",
    " 'SimpleHeadersSimpleContent',\n",
    " 'SimpleListComplexContent',\n",
    " 'SimpleListSimpleContent',\n",
    " 'ComplexFormComplexContent',\n",
    " 'ComplexFormSimpleContent',\n",
    " 'ComplexListComplexContent',\n",
    " 'ComplexListSimpleContent',\n",
    " 'InternalHeadersSimpleContent',\n",
    " 'InternalHeadersComplexContent',\n",
    " 'Layout',\n",
    " 'Other']\n",
    "# ids = dict(zip(a, range(len(a))))\n",
    "ids = {k : 1 if k in [\"SimpleHeadersSimpleContent\", \"SimpleHeadersComplexContent\"] else 0 for k in a}\n",
    "ids"
   ]
  },
  {
   "cell_type": "code",
   "execution_count": 7,
   "metadata": {},
   "outputs": [],
   "source": [
    "def get_id(row):\n",
    "    return (f'{row.file_name}-table_{row.table_id}', ids[row.detail_label])\n",
    "def parse_labels(df):\n",
    "    return dict(list(df.apply(get_id, axis=1)))"
   ]
  },
  {
   "cell_type": "code",
   "execution_count": 8,
   "metadata": {},
   "outputs": [
    {
     "name": "stdout",
     "output_type": "stream",
     "text": [
      "#train = 9137\n",
      "#valid = 1322\n",
      "#test = 2747\n",
      "#out = 6850\n"
     ]
    }
   ],
   "source": [
    "qtrel = []\n",
    "tab_to_split_id = {}\n",
    "out_cnt = 0\n",
    "for i, s in enumerate(splits):\n",
    "    with open(f'{s}_query.txt', 'w') as f: f.write(f'{i}\\t{s}\\n')\n",
    "    tabs = pd.read_csv(f'raw/label/{s}.csv', sep=',')\n",
    "    tabs = parse_labels(tabs)\n",
    "    print(f'#{s} = {len(tabs)}')\n",
    "    for tab, lab in tabs.items():\n",
    "        if tab not in tables: \n",
    "            out_cnt += 1\n",
    "        else:\n",
    "            qtrel.append([i, 0, tab, lab])\n",
    "print(f'#out = {out_cnt}')"
   ]
  },
  {
   "cell_type": "code",
   "execution_count": 9,
   "metadata": {},
   "outputs": [
    {
     "data": {
      "text/plain": [
       "(6356, 6356)"
      ]
     },
     "execution_count": 9,
     "metadata": {},
     "output_type": "execute_result"
    }
   ],
   "source": [
    "len(qtrel), len(tables)"
   ]
  },
  {
   "cell_type": "code",
   "execution_count": 10,
   "metadata": {},
   "outputs": [],
   "source": [
    "qtrel_df = pd.DataFrame.from_records(qtrel)"
   ]
  },
  {
   "cell_type": "code",
   "execution_count": 11,
   "metadata": {},
   "outputs": [],
   "source": [
    "qtrel_df.to_csv('qtrels.txt', sep='\\t', header=False, index=False)"
   ]
  },
  {
   "cell_type": "code",
   "execution_count": 12,
   "metadata": {},
   "outputs": [
    {
     "data": {
      "text/plain": [
       "[0, 1]"
      ]
     },
     "execution_count": 12,
     "metadata": {},
     "output_type": "execute_result"
    }
   ],
   "source": [
    "sorted(qtrel_df[3].unique())"
   ]
  },
  {
   "cell_type": "code",
   "execution_count": null,
   "metadata": {},
   "outputs": [],
   "source": []
  }
 ],
 "metadata": {
  "kernelspec": {
   "display_name": "Python 3.8.13 ('gtr')",
   "language": "python",
   "name": "python3"
  },
  "language_info": {
   "codemirror_mode": {
    "name": "ipython",
    "version": 3
   },
   "file_extension": ".py",
   "mimetype": "text/x-python",
   "name": "python",
   "nbconvert_exporter": "python",
   "pygments_lexer": "ipython3",
   "version": "3.8.13"
  },
  "orig_nbformat": 4,
  "vscode": {
   "interpreter": {
    "hash": "2df2b346ddc30f688c96465f461445e2a69fb441aef9bbe8f472b17b3fef3887"
   }
  }
 },
 "nbformat": 4,
 "nbformat_minor": 2
}
